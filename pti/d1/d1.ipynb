{
 "cells": [
  {
   "metadata": {
    "ExecuteTime": {
     "end_time": "2024-11-12T21:39:56.638640Z",
     "start_time": "2024-11-12T21:39:56.624252Z"
    }
   },
   "cell_type": "code",
   "source": [
    "class Agent:\n",
    "    def __init__(self, name, measurement):\n",
    "        self.name = name\n",
    "        self.measurement = measurement\n",
    "        self.connections = []\n",
    "\n",
    "    def add_connection(self, other):\n",
    "        if other not in self.connections:\n",
    "            self.connections.append(other)\n",
    "\n",
    "    def remove_connection(self, other):\n",
    "        if other in self.connections:\n",
    "            self.connections.remove(other)\n",
    "\n",
    "    def update_measurement(self, new_measurement):\n",
    "        self.measurement = new_measurement\n",
    "\n",
    "    def __repr__(self):\n",
    "        return f\"{self.name}({self.measurement})\""
   ],
   "id": "62ec8cae9f928f4e",
   "outputs": [],
   "execution_count": 97
  },
  {
   "metadata": {
    "ExecuteTime": {
     "end_time": "2024-11-12T21:40:03.437561Z",
     "start_time": "2024-11-12T21:40:03.420465Z"
    }
   },
   "cell_type": "code",
   "source": [
    "class AgentNetwork:\n",
    "    def __init__(self):\n",
    "        self.agents = {}\n",
    "\n",
    "    def add_agent(self, agent_name, measurement):\n",
    "        if agent_name not in self.agents:\n",
    "            self.agents[agent_name] = Agent(agent_name, measurement)\n",
    "\n",
    "    def remove_agent(self, agent_name):\n",
    "        if agent_name in self.agents:\n",
    "            # Remove this agent from other agents' connections\n",
    "            for agent in self.agents.values():\n",
    "                agent.remove_connection(self.agents[agent_name])\n",
    "            del self.agents[agent_name]\n",
    "\n",
    "    def connect_agents(self, agent_name, other_name):\n",
    "        if agent_name in self.agents and other_name in self.agents:\n",
    "            self.agents[agent_name].add_connection(self.agents[other_name])\n",
    "\n",
    "    def disconnect_agents(self, agent_name, other_name):\n",
    "        if agent_name in self.agents and other_name in self.agents:\n",
    "            self.agents[agent_name].remove_connection(self.agents[other_name])\n",
    "\n",
    "    def update_agent_measurement(self, agent_name, measurement):\n",
    "        if agent_name in self.agents:\n",
    "            self.agents[agent_name].update_measurement(measurement)\n",
    "    \n",
    "    def clear_network(self):\n",
    "        self.agents = {}\n",
    "    \n",
    "    def run_simulation(self, max_iterations=100, tolerance=1e-5, gamma= 0.1):\n",
    "        for iteration in range(max_iterations):\n",
    "            updates = {}\n",
    "            for agent in self.agents.values():\n",
    "                if agent.connections:\n",
    "                    avg_measurement = sum([other.measurement for other in agent.connections]) / len(agent.connections)\n",
    "                    updates[agent.name] =  avg_measurement\n",
    "\n",
    "            # Update measurements if changes are above tolerance\n",
    "            stable = True\n",
    "            for agent_name, new_measurement in updates.items():\n",
    "                if abs(self.agents[agent_name].measurement - new_measurement) > tolerance:\n",
    "                    self.agents[agent_name].update_measurement(new_measurement)\n",
    "                    stable = False\n",
    "\n",
    "            if stable:\n",
    "                print(f\"Convergence reached after {iteration + 1} iterations.\")\n",
    "                return\n",
    "\n",
    "        print(\"Maximum iterations reached without convergence.\")\n",
    "\n",
    "    def __str__(self):\n",
    "        return ', '.join(f\"{agent.name}: {agent.measurement}\" for agent in self.agents.values())"
   ],
   "id": "27ef7a78384c2f35",
   "outputs": [],
   "execution_count": 98
  },
  {
   "metadata": {
    "ExecuteTime": {
     "end_time": "2024-11-12T21:40:41.011653Z",
     "start_time": "2024-11-12T21:40:41.002913Z"
    }
   },
   "cell_type": "code",
   "source": [
    "A = Agent('A', 25)\n",
    "B = Agent('B', 26)\n",
    "C = Agent('C', 26)\n",
    "D = Agent('D', 26)\n",
    "E = Agent('E', 28)\n",
    "F = Agent('F', 26)"
   ],
   "id": "cfb485ca391fad3f",
   "outputs": [],
   "execution_count": 107
  },
  {
   "metadata": {
    "ExecuteTime": {
     "end_time": "2024-11-12T21:40:43.194337Z",
     "start_time": "2024-11-12T21:40:43.179214Z"
    }
   },
   "cell_type": "code",
   "source": [
    "network = AgentNetwork()\n",
    "network.clear_network()\n",
    "network.add_agent(A.name, A.measurement)\n",
    "network.add_agent(B.name, B.measurement)\n",
    "network.add_agent(C.name, C.measurement)\n",
    "network.add_agent(D.name, D.measurement)\n",
    "network.add_agent(E.name, E.measurement)\n",
    "network.add_agent(F.name, F.measurement)\n",
    "network.connect_agents('A','B')\n",
    "network.connect_agents('B','C')\n",
    "network.connect_agents('C','A')\n",
    "network.connect_agents('C','B')\n",
    "network.connect_agents('D','B')\n",
    "network.connect_agents('D','E')\n",
    "network.connect_agents('D','F')\n",
    "network.connect_agents('E','C')\n",
    "network.connect_agents('E','F')\n",
    "network.connect_agents('F','E')"
   ],
   "id": "ecf5b57071807367",
   "outputs": [],
   "execution_count": 108
  },
  {
   "metadata": {
    "ExecuteTime": {
     "end_time": "2024-11-12T21:40:44.161066Z",
     "start_time": "2024-11-12T21:40:44.152906Z"
    }
   },
   "cell_type": "code",
   "source": "network.run_simulation()",
   "id": "14f594f39b57c820",
   "outputs": [
    {
     "name": "stdout",
     "output_type": "stream",
     "text": [
      "Convergence reached after 37 iterations.\n"
     ]
    }
   ],
   "execution_count": 109
  },
  {
   "metadata": {
    "ExecuteTime": {
     "end_time": "2024-11-12T21:40:45.087506Z",
     "start_time": "2024-11-12T21:40:45.067275Z"
    }
   },
   "cell_type": "code",
   "source": "print(network)",
   "id": "80f594da42add2e1",
   "outputs": [
    {
     "name": "stdout",
     "output_type": "stream",
     "text": [
      "A: 25.800003051757812, B: 25.800003051757812, C: 25.800003051757812, D: 25.800008138020832, E: 25.800003051757812, F: 25.800003051757812\n"
     ]
    }
   ],
   "execution_count": 110
  }
 ],
 "metadata": {
  "kernelspec": {
   "display_name": "Python 3",
   "language": "python",
   "name": "python3"
  },
  "language_info": {
   "codemirror_mode": {
    "name": "ipython",
    "version": 2
   },
   "file_extension": ".py",
   "mimetype": "text/x-python",
   "name": "python",
   "nbconvert_exporter": "python",
   "pygments_lexer": "ipython2",
   "version": "2.7.6"
  }
 },
 "nbformat": 4,
 "nbformat_minor": 5
}
