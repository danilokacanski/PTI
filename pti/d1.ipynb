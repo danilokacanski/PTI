{
 "cells": [
  {
   "cell_type": "code",
   "id": "initial_id",
   "metadata": {
    "collapsed": true,
    "ExecuteTime": {
     "end_time": "2024-11-04T12:09:34.468599Z",
     "start_time": "2024-11-04T12:09:34.448747Z"
    }
   },
   "source": [
    "connections = {\n",
    "    \"A\": [\"B\"],      \n",
    "    \"B\": [\"C\"],       \n",
    "    \"C\": [\"A\", \"B\"],  \n",
    "    \"D\": [\"B\", \"E\", \"F\"], \n",
    "    \"E\": [\"C\", \"F\"], \n",
    "    \"F\": [\"E\"]\n",
    "}\n",
    "measurements = {\n",
    "    \"A\": 25,\n",
    "    \"B\": 26,\n",
    "    \"C\": 26.5,\n",
    "    \"D\": 27,\n",
    "    \"E\": 28,\n",
    "    \"F\": 26\n",
    "}\n",
    "\n",
    "def update_values(connections, measurements):\n",
    "    new_values = {}\n",
    "    for agent, listeners in connections.items():\n",
    "        if listeners:\n",
    "            avg_measurement = sum(measurements[listener] for listener in listeners) / len(listeners)\n",
    "            new_values[agent] = avg_measurement\n",
    "        else:\n",
    "            new_values[agent] = measurements[agent]\n",
    "    return new_values\n",
    "\n",
    "max_iterations = 100\n",
    "tolerance = 1e-5       \n",
    "\n",
    "for i in range(max_iterations):\n",
    "    new_measurements = update_values(connections, measurements)\n",
    "    \n",
    "    changes = [abs(new_measurements[agent] - measurements[agent]) for agent in measurements]\n",
    "    if all(change < tolerance for change in changes):\n",
    "        print(f\"Konvergiralo je nakon {i + 1} iteracija.\")\n",
    "        break\n",
    "    measurements = new_measurements\n",
    "\n",
    "print(\"Konacne vrednosti za agente:\", measurements)\n"
   ],
   "outputs": [
    {
     "name": "stdout",
     "output_type": "stream",
     "text": [
      "Konvergiralo je nakon 37 iteracija.\n",
      "Konacne vrednosti za agente: {'A': 26.000003814697266, 'B': 26.0, 'C': 25.999998092651367, 'D': 26.000006357828777, 'E': 26.0000057220459, 'F': 26.000003814697266}\n"
     ]
    }
   ],
   "execution_count": 15
  }
 ],
 "metadata": {
  "kernelspec": {
   "display_name": "Python 3",
   "language": "python",
   "name": "python3"
  },
  "language_info": {
   "codemirror_mode": {
    "name": "ipython",
    "version": 2
   },
   "file_extension": ".py",
   "mimetype": "text/x-python",
   "name": "python",
   "nbconvert_exporter": "python",
   "pygments_lexer": "ipython2",
   "version": "2.7.6"
  }
 },
 "nbformat": 4,
 "nbformat_minor": 5
}
